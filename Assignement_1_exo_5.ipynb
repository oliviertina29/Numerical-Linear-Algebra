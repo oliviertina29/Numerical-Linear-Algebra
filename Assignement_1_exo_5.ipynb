{
 "cells": [
  {
   "cell_type": "markdown",
   "metadata": {},
   "source": [
    "## Numerical Linear Algebra\n",
    "## Homework_1 Exercise_5"
   ]
  },
  {
   "cell_type": "markdown",
   "metadata": {},
   "source": [
    "### Libraries importation"
   ]
  },
  {
   "cell_type": "code",
   "execution_count": 1,
   "metadata": {},
   "outputs": [],
   "source": [
    "import numpy\n",
    "import scipy . linalg\n",
    "\n",
    "from scipy.sparse import diags\n",
    "import numpy as np"
   ]
  },
  {
   "cell_type": "markdown",
   "metadata": {},
   "source": [
    "# Resoltion through the normal equation \n",
    "### Vandermonde matrix generation"
   ]
  },
  {
   "cell_type": "code",
   "execution_count": 5,
   "metadata": {},
   "outputs": [
    {
     "name": "stdout",
     "output_type": "stream",
     "text": [
      "[[ 1.00000000e+00 -1.00000000e+00  1.00000000e+00 -1.00000000e+00\n",
      "   1.00000000e+00 -1.00000000e+00]\n",
      " [ 1.00000000e+00 -7.77777778e-01  6.04938272e-01 -4.70507545e-01\n",
      "   3.65950312e-01 -2.84628021e-01]\n",
      " [ 1.00000000e+00 -5.55555556e-01  3.08641975e-01 -1.71467764e-01\n",
      "   9.52598689e-02 -5.29221494e-02]\n",
      " [ 1.00000000e+00 -3.33333333e-01  1.11111111e-01 -3.70370370e-02\n",
      "   1.23456790e-02 -4.11522634e-03]\n",
      " [ 1.00000000e+00 -1.11111111e-01  1.23456790e-02 -1.37174211e-03\n",
      "   1.52415790e-04 -1.69350878e-05]\n",
      " [ 1.00000000e+00  1.11111111e-01  1.23456790e-02  1.37174211e-03\n",
      "   1.52415790e-04  1.69350878e-05]\n",
      " [ 1.00000000e+00  3.33333333e-01  1.11111111e-01  3.70370370e-02\n",
      "   1.23456790e-02  4.11522634e-03]\n",
      " [ 1.00000000e+00  5.55555556e-01  3.08641975e-01  1.71467764e-01\n",
      "   9.52598689e-02  5.29221494e-02]\n",
      " [ 1.00000000e+00  7.77777778e-01  6.04938272e-01  4.70507545e-01\n",
      "   3.65950312e-01  2.84628021e-01]\n",
      " [ 1.00000000e+00  1.00000000e+00  1.00000000e+00  1.00000000e+00\n",
      "   1.00000000e+00  1.00000000e+00]]\n",
      "[[ 1.00000000e+01 -4.44089210e-16  4.07407407e+00 -4.44089210e-16\n",
      "   2.94741655e+00 -4.44089210e-16]\n",
      " [-4.44089210e-16  4.07407407e+00 -4.44089210e-16  2.94741655e+00\n",
      "  -4.44089210e-16  2.50430433e+00]\n",
      " [ 4.07407407e+00 -4.44089210e-16  2.94741655e+00 -4.44089210e-16\n",
      "   2.50430433e+00 -2.22044605e-16]\n",
      " [-4.44089210e-16  2.94741655e+00 -4.44089210e-16  2.50430433e+00\n",
      "  -2.22044605e-16  2.28629303e+00]\n",
      " [ 2.94741655e+00 -4.44089210e-16  2.50430433e+00 -2.22044605e-16\n",
      "   2.28629303e+00  0.00000000e+00]\n",
      " [-4.44089210e-16  2.50430433e+00 -2.22044605e-16  2.28629303e+00\n",
      "   0.00000000e+00  2.16766160e+00]]\n"
     ]
    }
   ],
   "source": [
    "X = np.linspace(-1, 1, 10)\n",
    "A = np.vander(X, 6, True)\n",
    "print(A)\n",
    "Z = np.dot(A.transpose(), A)\n",
    "print(Z)"
   ]
  },
  {
   "cell_type": "markdown",
   "metadata": {},
   "source": [
    "### Vector second member"
   ]
  },
  {
   "cell_type": "code",
   "execution_count": 7,
   "metadata": {},
   "outputs": [
    {
     "data": {
      "text/plain": [
       "array([ 4.07407407e+00, -4.44089210e-16,  2.94741655e+00, -4.44089210e-16,\n",
       "        2.50430433e+00, -2.22044605e-16])"
      ]
     },
     "execution_count": 7,
     "metadata": {},
     "output_type": "execute_result"
    }
   ],
   "source": [
    "Y = (np.linspace(-1, 1, 10))**2\n",
    "b = np.dot(A.transpose(), Y)\n",
    "b"
   ]
  },
  {
   "cell_type": "markdown",
   "metadata": {},
   "source": [
    "### Resolution"
   ]
  },
  {
   "cell_type": "code",
   "execution_count": 8,
   "metadata": {},
   "outputs": [
    {
     "data": {
      "text/plain": [
       "array([-2.69743076e-16, -9.87868997e-31,  1.00000000e+00,  4.07730542e-30,\n",
       "       -2.44211006e-45, -3.16558355e-30])"
      ]
     },
     "execution_count": 8,
     "metadata": {},
     "output_type": "execute_result"
    }
   ],
   "source": [
    "scipy.linalg.solve(Z, b)"
   ]
  },
  {
   "cell_type": "markdown",
   "metadata": {},
   "source": [
    "# Resolution through the QR factorization\n",
    "### Vandermonde matrix "
   ]
  },
  {
   "cell_type": "code",
   "execution_count": 9,
   "metadata": {},
   "outputs": [
    {
     "data": {
      "text/plain": [
       "array([[ 1.00000000e+00, -1.00000000e+00,  1.00000000e+00,\n",
       "        -1.00000000e+00,  1.00000000e+00, -1.00000000e+00],\n",
       "       [ 1.00000000e+00, -7.77777778e-01,  6.04938272e-01,\n",
       "        -4.70507545e-01,  3.65950312e-01, -2.84628021e-01],\n",
       "       [ 1.00000000e+00, -5.55555556e-01,  3.08641975e-01,\n",
       "        -1.71467764e-01,  9.52598689e-02, -5.29221494e-02],\n",
       "       [ 1.00000000e+00, -3.33333333e-01,  1.11111111e-01,\n",
       "        -3.70370370e-02,  1.23456790e-02, -4.11522634e-03],\n",
       "       [ 1.00000000e+00, -1.11111111e-01,  1.23456790e-02,\n",
       "        -1.37174211e-03,  1.52415790e-04, -1.69350878e-05],\n",
       "       [ 1.00000000e+00,  1.11111111e-01,  1.23456790e-02,\n",
       "         1.37174211e-03,  1.52415790e-04,  1.69350878e-05],\n",
       "       [ 1.00000000e+00,  3.33333333e-01,  1.11111111e-01,\n",
       "         3.70370370e-02,  1.23456790e-02,  4.11522634e-03],\n",
       "       [ 1.00000000e+00,  5.55555556e-01,  3.08641975e-01,\n",
       "         1.71467764e-01,  9.52598689e-02,  5.29221494e-02],\n",
       "       [ 1.00000000e+00,  7.77777778e-01,  6.04938272e-01,\n",
       "         4.70507545e-01,  3.65950312e-01,  2.84628021e-01],\n",
       "       [ 1.00000000e+00,  1.00000000e+00,  1.00000000e+00,\n",
       "         1.00000000e+00,  1.00000000e+00,  1.00000000e+00]])"
      ]
     },
     "execution_count": 9,
     "metadata": {},
     "output_type": "execute_result"
    }
   ],
   "source": [
    "A"
   ]
  },
  {
   "cell_type": "markdown",
   "metadata": {},
   "source": [
    "### QR factorization"
   ]
  },
  {
   "cell_type": "code",
   "execution_count": 10,
   "metadata": {},
   "outputs": [
    {
     "data": {
      "text/plain": [
       "array([[-0.31622777, -0.49543369,  0.52223297,  0.45342519, -0.33658092,\n",
       "         0.21483446],\n",
       "       [-0.31622777, -0.38533732,  0.17407766, -0.15114173,  0.41137668,\n",
       "        -0.50128041],\n",
       "       [-0.31622777, -0.27524094, -0.08703883, -0.37785433,  0.31788198,\n",
       "         0.03580574],\n",
       "       [-0.31622777, -0.16514456, -0.26111648, -0.33467098, -0.05609682,\n",
       "         0.39386318],\n",
       "       [-0.31622777, -0.05504819, -0.34815531, -0.12955006, -0.33658092,\n",
       "         0.21483446],\n",
       "       [-0.31622777,  0.05504819, -0.34815531,  0.12955006, -0.33658092,\n",
       "        -0.21483446],\n",
       "       [-0.31622777,  0.16514456, -0.26111648,  0.33467098, -0.05609682,\n",
       "        -0.39386318],\n",
       "       [-0.31622777,  0.27524094, -0.08703883,  0.37785433,  0.31788198,\n",
       "        -0.03580574],\n",
       "       [-0.31622777,  0.38533732,  0.17407766,  0.15114173,  0.41137668,\n",
       "         0.50128041],\n",
       "       [-0.31622777,  0.49543369,  0.52223297, -0.45342519, -0.33658092,\n",
       "        -0.21483446]])"
      ]
     },
     "execution_count": 10,
     "metadata": {},
     "output_type": "execute_result"
    }
   ],
   "source": [
    "Q, R = np.linalg.qr(A)\n",
    "Q"
   ]
  },
  {
   "cell_type": "code",
   "execution_count": 15,
   "metadata": {},
   "outputs": [
    {
     "data": {
      "text/plain": [
       "array([1.        , 0.60493827, 0.30864198, 0.11111111, 0.01234568,\n",
       "       0.01234568, 0.11111111, 0.30864198, 0.60493827, 1.        ])"
      ]
     },
     "execution_count": 15,
     "metadata": {},
     "output_type": "execute_result"
    }
   ],
   "source": [
    "Y"
   ]
  },
  {
   "cell_type": "markdown",
   "metadata": {},
   "source": [
    "### Vector second member"
   ]
  },
  {
   "cell_type": "code",
   "execution_count": 16,
   "metadata": {},
   "outputs": [
    {
     "data": {
      "text/plain": [
       "array([-1.28833534e+00,  1.66533454e-16,  1.13472842e+00, -1.11022302e-16,\n",
       "        5.55111512e-17,  2.77555756e-17])"
      ]
     },
     "execution_count": 16,
     "metadata": {},
     "output_type": "execute_result"
    }
   ],
   "source": [
    "Q_T_b = np.dot(Q.transpose(), Y)\n",
    "Q_T_b"
   ]
  },
  {
   "cell_type": "markdown",
   "metadata": {},
   "source": [
    "### Resolution"
   ]
  },
  {
   "cell_type": "code",
   "execution_count": 17,
   "metadata": {},
   "outputs": [
    {
     "data": {
      "text/plain": [
       "array([ 1.60679286e-16, -1.12589077e-16,  1.00000000e+00,  4.15983009e-16,\n",
       "       -1.77351976e-16, -1.83385716e-16])"
      ]
     },
     "execution_count": 17,
     "metadata": {},
     "output_type": "execute_result"
    }
   ],
   "source": [
    "scipy.linalg.solve(R, Q_T_b)"
   ]
  },
  {
   "cell_type": "code",
   "execution_count": null,
   "metadata": {},
   "outputs": [],
   "source": []
  }
 ],
 "metadata": {
  "kernelspec": {
   "display_name": "Python 3",
   "language": "python",
   "name": "python3"
  },
  "language_info": {
   "codemirror_mode": {
    "name": "ipython",
    "version": 3
   },
   "file_extension": ".py",
   "mimetype": "text/x-python",
   "name": "python",
   "nbconvert_exporter": "python",
   "pygments_lexer": "ipython3",
   "version": "3.9.7 (default, Sep 16 2021, 16:59:28) [MSC v.1916 64 bit (AMD64)]"
  },
  "orig_nbformat": 4,
  "vscode": {
   "interpreter": {
    "hash": "631af202ec7c40e141c49d63cac6c8cb664469fed6e4d5ddc6436b49edc60500"
   }
  }
 },
 "nbformat": 4,
 "nbformat_minor": 2
}
