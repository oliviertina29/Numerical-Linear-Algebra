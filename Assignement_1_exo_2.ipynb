{
 "cells": [
  {
   "cell_type": "markdown",
   "metadata": {},
   "source": [
    "## Numerical Linear Algebra\n",
    "## Homework_1 Exercise_2"
   ]
  },
  {
   "cell_type": "markdown",
   "metadata": {},
   "source": [
    "### Libraries importation"
   ]
  },
  {
   "cell_type": "code",
   "execution_count": 17,
   "metadata": {},
   "outputs": [],
   "source": [
    "import numpy\n",
    "import scipy.linalg\n",
    "\n",
    "from scipy.sparse import diags\n",
    "import numpy as np\n",
    "import math"
   ]
  },
  {
   "cell_type": "markdown",
   "metadata": {},
   "source": [
    "### Tridiagonal matrix corresponding to the system"
   ]
  },
  {
   "cell_type": "code",
   "execution_count": 31,
   "metadata": {},
   "outputs": [
    {
     "name": "stdout",
     "output_type": "stream",
     "text": [
      "[1.     1.0125 1.05   1.1125]\n",
      "[-2.04       -2.04365203 -2.07426123 -2.13139466 -2.21471518]\n",
      "[1. 1. 1. 1.]\n",
      "[0.04       0.03757652 0.03115203 0.02279131 0.01471518]\n"
     ]
    },
    {
     "data": {
      "text/plain": [
       "array([[-2.04      ,  1.        ,  0.        ,  0.        ,  0.        ],\n",
       "       [ 1.        , -2.04365203,  1.        ,  0.        ,  0.        ],\n",
       "       [ 0.        ,  1.0125    , -2.07426123,  1.        ,  0.        ],\n",
       "       [ 0.        ,  0.        ,  1.05      , -2.13139466,  1.        ],\n",
       "       [ 0.        ,  0.        ,  0.        ,  1.1125    , -2.21471518]])"
      ]
     },
     "execution_count": 31,
     "metadata": {},
     "output_type": "execute_result"
    }
   ],
   "source": [
    "n = 4\n",
    "b = 1; a = 0\n",
    "h =(b-a)/(n+1)\n",
    "Z = np.linspace(a, b, n+1)\n",
    "P = np.ones(n+1)\n",
    "Q = np.ones(n+1)\n",
    "b_h = np.ones(n+1)\n",
    "v = np.ones(n+1)\n",
    "for i in range(len(Z)):\n",
    "    P[i] = math.pow(Z[i],2)\n",
    "    Q[i] = math.exp(-Z[i])\n",
    "    b_h[i] = math.exp(-P[i])*(h**2)\n",
    "    v[i] = -(2 + h*P[i] + (h**2)*Q[i])\n",
    "\n",
    "u = np.ones(n)\n",
    "w = np.ones(n)\n",
    "for i in range(n):\n",
    "    u[i] = 1 + h*P[i]\n",
    "\n",
    "print(u)\n",
    "print(v)\n",
    "print(w)\n",
    "print(b_h)\n",
    "\n",
    "def tridiag(u, v, w, k1=-1, k2=0, k3=1):\n",
    "    return np.diag(u, k1) + np.diag(v, k2) + np.diag(w, k3)\n",
    "\n",
    "A = tridiag(u, v, w)\n",
    "A"
   ]
  },
  {
   "cell_type": "code",
   "execution_count": 47,
   "metadata": {},
   "outputs": [],
   "source": [
    "M = A\n",
    "syms = b_h"
   ]
  },
  {
   "cell_type": "markdown",
   "metadata": {},
   "source": [
    "### Gaussian elimination method"
   ]
  },
  {
   "cell_type": "code",
   "execution_count": 48,
   "metadata": {},
   "outputs": [],
   "source": [
    "\n",
    "# write rows in row echelon form\n",
    "def upper_triangular(M):\n",
    "    # move all zeros to buttom of matrix\n",
    "    M = np.concatenate((M[np.any(M != 0, axis=1)], M[np.all(M == 0, axis=1)]), axis=0)\n",
    "\n",
    "    # iterate over matrix rows\n",
    "    for i in range(0, M.shape[0]):\n",
    "\n",
    "        # initialize row-swap iterator\n",
    "        j = 1\n",
    "\n",
    "        # select pivot value\n",
    "        pivot = M[i][i]\n",
    "\n",
    "        # find next non-zero leading coefficient\n",
    "        while pivot == 0 and i + j < M.shape[0]:\n",
    "            # perform row swap operation\n",
    "            M[[i, i + j]] = M[[i + j, i]]\n",
    "\n",
    "            # incrememnt row-swap iterator\n",
    "            j += 1\n",
    "\n",
    "            # get new pivot\n",
    "            pivot = M[i][i]\n",
    "\n",
    "        # if pivot is zero, remaining rows are all zeros\n",
    "        if pivot == 0:\n",
    "            # return upper triangular matrix\n",
    "            return M\n",
    "\n",
    "        # extract row\n",
    "        row = M[i]\n",
    "\n",
    "        # get 1 along the diagonal\n",
    "        M[i] = row / pivot\n",
    "\n",
    "        # iterate over remaining rows\n",
    "        for j in range(i + 1, M.shape[0]):\n",
    "            # subtract current row from remaining rows\n",
    "            M[j] = M[j] - M[i] * M[j][i]\n",
    "\n",
    "    # return upper triangular matrix\n",
    "    return M"
   ]
  },
  {
   "cell_type": "code",
   "execution_count": 51,
   "metadata": {},
   "outputs": [
    {
     "data": {
      "text/plain": [
       "array([[ 1.        , -0.49019608, -0.        , -0.        , -0.        ],\n",
       "       [-0.        ,  1.        , -0.64372601, -0.        , -0.        ],\n",
       "       [-0.        , -0.        ,  1.        , -0.70299331, -0.        ],\n",
       "       [-0.        , -0.        , -0.        ,  1.        , -0.71774541],\n",
       "       [-0.        , -0.        , -0.        , -0.        ,  1.        ]])"
      ]
     },
     "execution_count": 51,
     "metadata": {},
     "output_type": "execute_result"
    }
   ],
   "source": [
    "upper_triangular(M)"
   ]
  },
  {
   "cell_type": "code",
   "execution_count": 52,
   "metadata": {},
   "outputs": [
    {
     "data": {
      "text/plain": [
       "array([0.51950932, 0.76918274, 0.996394  , 0.65422943, 0.3256239 ])"
      ]
     },
     "execution_count": 52,
     "metadata": {},
     "output_type": "execute_result"
    }
   ],
   "source": [
    "scipy.linalg.solve(M, b_h)"
   ]
  },
  {
   "cell_type": "code",
   "execution_count": 34,
   "metadata": {},
   "outputs": [
    {
     "data": {
      "text/plain": [
       "array([-0.29061627, -0.05603854, -0.6337545 , -0.02258351,  0.00666605])"
      ]
     },
     "execution_count": 34,
     "metadata": {},
     "output_type": "execute_result"
    }
   ],
   "source": [
    "def backsubstitution(M, syms):\n",
    "    # symbolic variable index\n",
    "    for i, row in reversed(list(enumerate(M))):\n",
    "        # create symbolic equation\n",
    "        eqn = -M[i][-1]\n",
    "        for j in range(len(syms)):\n",
    "            eqn += syms[j] * row[j]\n",
    "\n",
    "        # solve symbolic expression and store variable\n",
    "        syms[i] = scipy.linalg.solve(eqn, syms[i])[0]\n",
    "\n",
    "    # return list of evaluated variables\n",
    "    return syms\n",
    "\n",
    "backsubstitution(M, syms)"
   ]
  },
  {
   "cell_type": "markdown",
   "metadata": {},
   "source": [
    "### Resolution using QR decomposition"
   ]
  },
  {
   "cell_type": "code",
   "execution_count": 35,
   "metadata": {},
   "outputs": [],
   "source": [
    "Q, R = scipy.linalg.qr(A)"
   ]
  },
  {
   "cell_type": "code",
   "execution_count": 43,
   "metadata": {},
   "outputs": [
    {
     "data": {
      "text/plain": [
       "array([ 0.23628461, -0.22804397,  0.44107078,  0.29887723, -0.31319618])"
      ]
     },
     "execution_count": 43,
     "metadata": {},
     "output_type": "execute_result"
    }
   ],
   "source": [
    "vector_b = np.dot(Q.transpose(), b_h.transpose()) \n",
    "vector_b"
   ]
  },
  {
   "cell_type": "code",
   "execution_count": 44,
   "metadata": {},
   "outputs": [
    {
     "data": {
      "text/plain": [
       "array([0.51950932, 0.76918274, 0.996394  , 0.65422943, 0.3256239 ])"
      ]
     },
     "execution_count": 44,
     "metadata": {},
     "output_type": "execute_result"
    }
   ],
   "source": [
    "scipy.linalg.solve(R, vector_b)"
   ]
  },
  {
   "cell_type": "markdown",
   "metadata": {},
   "source": [
    "### We noticed that we got almost the same solution using Gaussian elimation and the QR methods"
   ]
  },
  {
   "cell_type": "code",
   "execution_count": null,
   "metadata": {},
   "outputs": [],
   "source": []
  }
 ],
 "metadata": {
  "kernelspec": {
   "display_name": "Python 3",
   "language": "python",
   "name": "python3"
  },
  "language_info": {
   "codemirror_mode": {
    "name": "ipython",
    "version": 3
   },
   "file_extension": ".py",
   "mimetype": "text/x-python",
   "name": "python",
   "nbconvert_exporter": "python",
   "pygments_lexer": "ipython3",
   "version": "3.9.7 (default, Sep 16 2021, 16:59:28) [MSC v.1916 64 bit (AMD64)]"
  },
  "orig_nbformat": 4,
  "vscode": {
   "interpreter": {
    "hash": "631af202ec7c40e141c49d63cac6c8cb664469fed6e4d5ddc6436b49edc60500"
   }
  }
 },
 "nbformat": 4,
 "nbformat_minor": 2
}
