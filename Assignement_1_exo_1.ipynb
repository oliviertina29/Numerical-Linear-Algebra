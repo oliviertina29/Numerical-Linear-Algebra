{
 "cells": [
  {
   "cell_type": "markdown",
   "metadata": {},
   "source": [
    "## Numerical Linear Algebra\n",
    "## Homework_1 Exercise_1"
   ]
  },
  {
   "cell_type": "markdown",
   "metadata": {},
   "source": [
    "### Libraries importation"
   ]
  },
  {
   "cell_type": "code",
   "execution_count": 1,
   "metadata": {},
   "outputs": [],
   "source": [
    "import numpy\n",
    "import scipy . linalg\n",
    "\n",
    "from scipy.sparse import diags\n",
    "import numpy as np"
   ]
  },
  {
   "cell_type": "markdown",
   "metadata": {},
   "source": [
    "### Tridiagonal Matrix"
   ]
  },
  {
   "cell_type": "code",
   "execution_count": 4,
   "metadata": {},
   "outputs": [
    {
     "data": {
      "text/plain": [
       "array([[ 2., -1.,  0.],\n",
       "       [-1.,  2., -1.],\n",
       "       [ 0., -1.,  2.]])"
      ]
     },
     "execution_count": 4,
     "metadata": {},
     "output_type": "execute_result"
    }
   ],
   "source": [
    "n = 3\n",
    "k = [- np.ones(n-1), 2*np.ones(n), - np.ones(n-1)]\n",
    "offset = [-1,0,1]\n",
    "A = diags(k,offset).toarray()\n",
    "A"
   ]
  },
  {
   "cell_type": "markdown",
   "metadata": {},
   "source": [
    "### LU Factorization"
   ]
  },
  {
   "cell_type": "code",
   "execution_count": 5,
   "metadata": {},
   "outputs": [
    {
     "data": {
      "text/plain": [
       "(array([[1., 0., 0.],\n",
       "        [0., 1., 0.],\n",
       "        [0., 0., 1.]]),\n",
       " array([[ 1.        ,  0.        ,  0.        ],\n",
       "        [-0.5       ,  1.        ,  0.        ],\n",
       "        [ 0.        , -0.66666667,  1.        ]]),\n",
       " array([[ 2.        , -1.        ,  0.        ],\n",
       "        [ 0.        ,  1.5       , -1.        ],\n",
       "        [ 0.        ,  0.        ,  1.33333333]]))"
      ]
     },
     "execution_count": 5,
     "metadata": {},
     "output_type": "execute_result"
    }
   ],
   "source": [
    "LU = scipy.linalg.lu(A)\n",
    "LU"
   ]
  },
  {
   "cell_type": "markdown",
   "metadata": {},
   "source": [
    "### Linear system resolution"
   ]
  },
  {
   "cell_type": "code",
   "execution_count": 20,
   "metadata": {},
   "outputs": [
    {
     "data": {
      "text/plain": [
       "array([ 14.69350922,  28.93167552,  42.68978242,  55.89769248,\n",
       "        68.77179142,  81.59817865,  93.67164529, 105.11438905,\n",
       "       115.67007488, 125.50214748, 135.06050428, 143.72842782,\n",
       "       151.5441954 , 158.67793718, 165.269126  , 171.4860774 ,\n",
       "       176.93202227, 181.72017909, 185.62965941, 189.40092928,\n",
       "       192.75909032, 195.2336022 , 196.84632652, 197.52821332,\n",
       "       197.57134423, 197.51219818, 197.28616836, 196.44085296,\n",
       "       195.0987403 , 193.46159102, 190.92630733, 187.49267868,\n",
       "       183.58435955, 179.43101065, 174.28213703, 168.2320035 ,\n",
       "       161.40504123, 153.68813018, 145.25586847, 135.82442518,\n",
       "       125.87767727, 115.43544039, 104.45857263,  93.20555795,\n",
       "        81.16946144,  68.67723965,  55.90370005,  42.30721428,\n",
       "        28.5441443 ,  14.68819501])"
      ]
     },
     "execution_count": 20,
     "metadata": {},
     "output_type": "execute_result"
    }
   ],
   "source": [
    "def system_resolution(A, b):\n",
    "    x = scipy.linalg.solve(A,b)\n",
    "    return x\n",
    "\n",
    "system_resolution(A, np.random.random(50))"
   ]
  },
  {
   "cell_type": "code",
   "execution_count": null,
   "metadata": {},
   "outputs": [],
   "source": []
  }
 ],
 "metadata": {
  "kernelspec": {
   "display_name": "base",
   "language": "python",
   "name": "python3"
  },
  "language_info": {
   "codemirror_mode": {
    "name": "ipython",
    "version": 3
   },
   "file_extension": ".py",
   "mimetype": "text/x-python",
   "name": "python",
   "nbconvert_exporter": "python",
   "pygments_lexer": "ipython3",
   "version": "3.9.7 (default, Sep 16 2021, 16:59:28) [MSC v.1916 64 bit (AMD64)]"
  },
  "orig_nbformat": 4,
  "vscode": {
   "interpreter": {
    "hash": "631af202ec7c40e141c49d63cac6c8cb664469fed6e4d5ddc6436b49edc60500"
   }
  }
 },
 "nbformat": 4,
 "nbformat_minor": 2
}
